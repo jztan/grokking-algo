{
 "cells": [
  {
   "cell_type": "code",
   "execution_count": 17,
   "metadata": {},
   "outputs": [
    {
     "name": "stdout",
     "output_type": "stream",
     "text": [
      "{'start': {'a': 5, 'b': 2}, 'a': {'c': 4, 'd': 2}, 'b': {'a': 8, 'd': 7}, 'c': {'fin': 3, 'd': 6}, 'd': {'fin': 1}, 'fin': {}}\n"
     ]
    }
   ],
   "source": [
    "#  Reference: https://en.wikipedia.org/wiki/Dijkstra%27s_algorithm\n",
    "\n",
    "graph = {}\n",
    "graph[\"start\"] = {}\n",
    "graph[\"start\"][\"a\"] = 5\n",
    "graph[\"start\"][\"b\"] = 2\n",
    "graph[\"a\"] = {}\n",
    "graph[\"a\"][\"c\"] = 4\n",
    "graph[\"a\"][\"d\"] = 2\n",
    "graph[\"b\"] = {}\n",
    "graph[\"b\"][\"a\"] = 8\n",
    "graph[\"b\"][\"d\"] = 7\n",
    "graph[\"c\"] = {}\n",
    "graph[\"c\"][\"fin\"] = 3\n",
    "graph[\"c\"][\"d\"] = 6\n",
    "graph[\"d\"] = {}\n",
    "graph[\"d\"][\"fin\"] = 1\n",
    "graph[\"fin\"] = {}\n",
    "\n",
    "print(graph)"
   ]
  },
  {
   "cell_type": "code",
   "execution_count": 18,
   "metadata": {},
   "outputs": [
    {
     "name": "stdout",
     "output_type": "stream",
     "text": [
      "{'a': 5, 'b': 2, 'c': inf, 'd': inf, 'fin': inf}\n"
     ]
    }
   ],
   "source": [
    "inifinity = float(\"inf\")\n",
    "costs = {}\n",
    "costs[\"a\"] = 5\n",
    "costs[\"b\"] = 2\n",
    "costs[\"c\"] = inifinity\n",
    "costs[\"d\"] = inifinity\n",
    "costs[\"fin\"] = inifinity\n",
    "\n",
    "print(costs)"
   ]
  },
  {
   "cell_type": "code",
   "execution_count": 19,
   "metadata": {},
   "outputs": [],
   "source": [
    "parents = {}\n",
    "parents[\"a\"] = \"start\"\n",
    "parents[\"b\"] = \"start\"\n",
    "parents[\"c\"] = None\n",
    "parents[\"d\"] = None\n",
    "parents[\"fin\"] = None\n",
    "\n",
    "processed = []\n",
    "route = [\"start\"]"
   ]
  },
  {
   "cell_type": "code",
   "execution_count": 20,
   "metadata": {},
   "outputs": [],
   "source": [
    "def find_lowest_cost_node(costs):\n",
    "    lowest_cost = float(\"inf\")\n",
    "    lowest_cost_node = None\n",
    "    for node in costs:\n",
    "        cost = costs[node]\n",
    "        if cost < lowest_cost and node not in processed:\n",
    "            lowest_cost = cost\n",
    "            lowest_cost_node = node\n",
    "    return lowest_cost_node"
   ]
  },
  {
   "cell_type": "code",
   "execution_count": 21,
   "metadata": {},
   "outputs": [],
   "source": [
    "node = find_lowest_cost_node(costs)\n",
    "route.append(node)\n",
    "while node is not None and node is not \"fin\":\n",
    "    cost = costs[node]\n",
    "    neighbors = graph[node]\n",
    "    for n in neighbors.keys():\n",
    "        new_cost = cost + neighbors[n]\n",
    "        if costs[n] > new_cost:\n",
    "            costs[n] = new_cost\n",
    "            parents[n] = node\n",
    "    processed.append(node)\n",
    "    node = find_lowest_cost_node(costs)\n",
    "    route.append(node)"
   ]
  },
  {
   "cell_type": "code",
   "execution_count": 22,
   "metadata": {},
   "outputs": [
    {
     "name": "stdout",
     "output_type": "stream",
     "text": [
      "The cheaper route: ['start', 'b', 'a', 'd', 'fin']\n"
     ]
    }
   ],
   "source": [
    "print(\"The cheaper route: %s\" % route)"
   ]
  },
  {
   "cell_type": "code",
   "execution_count": null,
   "metadata": {},
   "outputs": [],
   "source": []
  }
 ],
 "metadata": {
  "kernelspec": {
   "display_name": "Python 3",
   "language": "python",
   "name": "python3"
  },
  "language_info": {
   "codemirror_mode": {
    "name": "ipython",
    "version": 3
   },
   "file_extension": ".py",
   "mimetype": "text/x-python",
   "name": "python",
   "nbconvert_exporter": "python",
   "pygments_lexer": "ipython3",
   "version": "3.6.2"
  }
 },
 "nbformat": 4,
 "nbformat_minor": 2
}
